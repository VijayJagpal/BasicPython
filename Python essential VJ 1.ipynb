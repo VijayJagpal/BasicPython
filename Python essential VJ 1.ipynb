{
 "cells": [
  {
   "cell_type": "markdown",
   "metadata": {},
   "source": [
    "# Python Programming: Essentials 1\n",
    "\n",
    "#### Variables are used to store values. \n",
    "\n",
    "#### A string is a series of characters, surrounded by single or double quotes. "
   ]
  },
  {
   "cell_type": "markdown",
   "metadata": {},
   "source": [
    "Hello world"
   ]
  },
  {
   "cell_type": "code",
   "execution_count": null,
   "metadata": {},
   "outputs": [],
   "source": [
    "print(\"Hello Vijay!\") #print() is your first function"
   ]
  },
  {
   "cell_type": "markdown",
   "metadata": {},
   "source": [
    "Hello world via a variable"
   ]
  },
  {
   "cell_type": "code",
   "execution_count": null,
   "metadata": {},
   "outputs": [],
   "source": [
    "message = \"Hello Fabien!\" #assigning a string to a variable\n",
    "print(message) # message is a variable"
   ]
  },
  {
   "cell_type": "markdown",
   "metadata": {},
   "source": [
    "\n",
    "\n",
    "Concatenation (combining strings) "
   ]
  },
  {
   "cell_type": "code",
   "execution_count": null,
   "metadata": {},
   "outputs": [],
   "source": [
    "first_name = 'Fabien' \n",
    "last_name = 'GUERET' \n",
    "full_name = first_name + ' ' + last_name \n",
    "print(full_name)\n"
   ]
  },
  {
   "cell_type": "code",
   "execution_count": null,
   "metadata": {},
   "outputs": [],
   "source": [
    "print(first_name , last_name )"
   ]
  },
  {
   "cell_type": "markdown",
   "metadata": {},
   "source": [
    "\n",
    "\n",
    "## List\n",
    "\n",
    "A list stores a series of items in a particular order. \n",
    "\n",
    "You access items using an index, or within a loop. \n",
    "Make a list "
   ]
  },
  {
   "cell_type": "code",
   "execution_count": null,
   "metadata": {},
   "outputs": [],
   "source": [
    "bicycles = ['mountain', 'road', 'race', 'penny-farthing']\n",
    "\n",
    "print(bicycles)\n"
   ]
  },
  {
   "cell_type": "code",
   "execution_count": null,
   "metadata": {},
   "outputs": [],
   "source": [
    "addon = ['raleigh','brompton']\n",
    "bicycles =bicycles + addon # add a list to a list\n",
    "print(bicycles)\n"
   ]
  },
  {
   "cell_type": "markdown",
   "metadata": {},
   "source": [
    "Get the first item in the list"
   ]
  },
  {
   "cell_type": "code",
   "execution_count": null,
   "metadata": {},
   "outputs": [],
   "source": [
    "first_bike = bicycles[0] \n",
    "print (first_bike)"
   ]
  },
  {
   "cell_type": "markdown",
   "metadata": {},
   "source": [
    "Get the last item in the list"
   ]
  },
  {
   "cell_type": "code",
   "execution_count": null,
   "metadata": {},
   "outputs": [],
   "source": [
    "last_bike = bicycles[-1]\n",
    "print(last_bike)\n"
   ]
  },
  {
   "cell_type": "code",
   "execution_count": null,
   "metadata": {},
   "outputs": [],
   "source": [
    "# write code to print the penultimate (i.e. one before last) bike\n",
    "\n"
   ]
  },
  {
   "cell_type": "markdown",
   "metadata": {},
   "source": [
    "# Working with Strings\n",
    "\n",
    "## split() function"
   ]
  },
  {
   "cell_type": "code",
   "execution_count": null,
   "metadata": {},
   "outputs": [],
   "source": [
    "# the function split() cuts a string at specified character position then store the result in a list\n",
    "\n",
    "sentence = 'UK house prices grew two per cent year on year for September, according to new figures released today, but London house prices declined.\n",
    "\n",
    "words = sentence.split(' ')\n",
    "\n",
    "print(words)\n"
   ]
  },
  {
   "cell_type": "code",
   "execution_count": null,
   "metadata": {},
   "outputs": [],
   "source": [
    "# adapt to get the first and second part from an email address\n",
    "email = \"trainingsupport@pairview.co.uk\"\n",
    "\n",
    "########## your code below#############\n",
    "\n"
   ]
  },
  {
   "cell_type": "code",
   "execution_count": null,
   "metadata": {},
   "outputs": [],
   "source": [
    "# write code to get the first name and the last name from the full name that can include 1 or many middle names\n",
    "\n",
    "################your code################\n",
    "myname = \"Elizabeth Alexandra Mary Windsor\"\n",
    "\n"
   ]
  },
  {
   "cell_type": "markdown",
   "metadata": {},
   "source": [
    "## join() function"
   ]
  },
  {
   "cell_type": "code",
   "execution_count": null,
   "metadata": {},
   "outputs": [],
   "source": [
    "# the function join() take a list of strings and concatenate its elements separated by the character passed to it\n",
    "separator =' '\n",
    "sentence = separator.join(subjects)\n",
    "\n",
    "print(sentence)"
   ]
  },
  {
   "cell_type": "markdown",
   "metadata": {},
   "source": [
    "## strip() function"
   ]
  },
  {
   "cell_type": "code",
   "execution_count": null,
   "metadata": {},
   "outputs": [],
   "source": [
    "# the function strip() removes unwanted characters (spaces usually) \n",
    "# at the beginning and ending of a string\n",
    "stri = \"0000000@@this is a polluted string example@@0000000\"\n",
    "print(stri.strip( '0' ).strip('@)'))\n"
   ]
  },
  {
   "cell_type": "markdown",
   "metadata": {},
   "source": [
    "## replace(old_word,new_word) function"
   ]
  },
  {
   "cell_type": "code",
   "execution_count": null,
   "metadata": {},
   "outputs": [],
   "source": [
    "# and now I present you the function replace\n",
    "print( stri. strip('0').strip('@').replace( 'polluted' , 'cleaned' ))"
   ]
  },
  {
   "cell_type": "markdown",
   "metadata": {},
   "source": [
    "# for in statement\n",
    "### Looping through a list "
   ]
  },
  {
   "cell_type": "code",
   "execution_count": null,
   "metadata": {},
   "outputs": [],
   "source": [
    "bicycles = ['mountain', 'road', 'race', 'penny-farthing']\n",
    "\n",
    "#for in:  statement\n",
    "\n",
    "for element in bicycles: \n",
    "    print(element)\n",
    "    #print('Python')\n",
    "    \n",
    "print('End')    "
   ]
  },
  {
   "cell_type": "markdown",
   "metadata": {},
   "source": [
    "## range () function\n",
    "    "
   ]
  },
  {
   "cell_type": "code",
   "execution_count": null,
   "metadata": {},
   "outputs": [],
   "source": [
    "# loop above equivalent to \n",
    "\n",
    "for i in range(0,4): #for i = 0 to 4 do in C++\n",
    "    print(bicycles[i])"
   ]
  },
  {
   "cell_type": "code",
   "execution_count": null,
   "metadata": {},
   "outputs": [],
   "source": [
    "# range function tester"
   ]
  },
  {
   "cell_type": "code",
   "execution_count": null,
   "metadata": {},
   "outputs": [],
   "source": [
    "for number in range(8): # one only attribute = range(0,8)\n",
    "    print(number)"
   ]
  },
  {
   "cell_type": "code",
   "execution_count": null,
   "metadata": {},
   "outputs": [],
   "source": [
    "for number in range(2,8): # first is start , second the one after \n",
    "    print(number)"
   ]
  },
  {
   "cell_type": "code",
   "execution_count": null,
   "metadata": {},
   "outputs": [],
   "source": [
    "for number in range(2,8,2): # first is start , second the one after the last # 3rd the step\n",
    "    print(number)"
   ]
  },
  {
   "cell_type": "markdown",
   "metadata": {},
   "source": [
    "## Adding items to a list"
   ]
  },
  {
   "cell_type": "code",
   "execution_count": null,
   "metadata": {},
   "outputs": [],
   "source": [
    "# add another string\n",
    "bicycles.append('peugeot')\n",
    "print(bicycles)"
   ]
  },
  {
   "cell_type": "code",
   "execution_count": null,
   "metadata": {},
   "outputs": [],
   "source": [
    "# add a number!\n",
    "bicycles.append(22)\n",
    "print(bicycles)"
   ]
  },
  {
   "cell_type": "code",
   "execution_count": null,
   "metadata": {},
   "outputs": [],
   "source": [
    "# add a list!!\n",
    "bicycles.append(['derailleur','shimano']) \n",
    "print(bicycles)\n",
    "\n",
    "#YOU CAN ADD ANYTHING!!!"
   ]
  },
  {
   "cell_type": "code",
   "execution_count": null,
   "metadata": {},
   "outputs": [],
   "source": [
    "# Code for accessing the second item in the list inside the list\n",
    "print(bicycles)"
   ]
  },
  {
   "cell_type": "markdown",
   "metadata": {},
   "source": [
    "## Making numerical lists"
   ]
  },
  {
   "cell_type": "code",
   "execution_count": null,
   "metadata": {},
   "outputs": [],
   "source": [
    "# initialisation \n",
    "cubes = [] \n",
    "\n",
    "for number in range(1, 7): \n",
    "    cubes.append(number**3) \n",
    "print(cubes)\n",
    "\n",
    "# ** operator is power"
   ]
  },
  {
   "cell_type": "code",
   "execution_count": null,
   "metadata": {},
   "outputs": [],
   "source": [
    "# write code to calculate the average of numbers from 5 to 15\n",
    "# the average is the sum divided by the number of elements\n",
    "\n",
    "\n",
    "   "
   ]
  },
  {
   "cell_type": "markdown",
   "metadata": {},
   "source": [
    "## len() function"
   ]
  },
  {
   "cell_type": "code",
   "execution_count": null,
   "metadata": {},
   "outputs": [],
   "source": [
    "# the amazing Len function - aka the length of everything\n",
    "#len()    \n",
    "   \n",
    "l = len (range(5,16))\n",
    "print(l)\n",
    "\n",
    "print( len (bicycles))\n",
    "    "
   ]
  },
  {
   "cell_type": "markdown",
   "metadata": {},
   "source": [
    "# List comprehensions : Advanced\n"
   ]
  },
  {
   "cell_type": "code",
   "execution_count": null,
   "metadata": {},
   "outputs": [],
   "source": [
    "cubes = [x**3 for x in range(1, 7)] \n",
    "\n",
    "# equivalent to \n",
    "\n",
    "cubes = [] \n",
    "for x in range(1, 7): \n",
    "    cubes.append(x**3) \n"
   ]
  },
  {
   "cell_type": "markdown",
   "metadata": {},
   "source": [
    "## List comprehension exercise \n",
    "\n",
    "Write one line of Python that takes this list and makes a new list that has only the even elements of this list in it."
   ]
  },
  {
   "cell_type": "code",
   "execution_count": null,
   "metadata": {},
   "outputs": [],
   "source": [
    "list = [1, 4, 9, 16, 25, 36, 49, 64, 81, 100]"
   ]
  },
  {
   "cell_type": "markdown",
   "metadata": {},
   "source": [
    "## Slicing a list "
   ]
  },
  {
   "cell_type": "code",
   "execution_count": null,
   "metadata": {},
   "outputs": [],
   "source": [
    "finishers = ['Sue','Elliot', 'Kumiko','Damien'] \n",
    "first_two = finishers[:2] # all up to 2 but not 2\n",
    "print(first_two)"
   ]
  },
  {
   "cell_type": "code",
   "execution_count": null,
   "metadata": {},
   "outputs": [],
   "source": [
    "last_two = finishers[2:] # from 2 (included) up to end\n",
    "print(last_two)\n",
    "\n",
    "f = finishers[:2] + finishers[2:]\n",
    "print(f)"
   ]
  },
  {
   "cell_type": "code",
   "execution_count": null,
   "metadata": {},
   "outputs": [],
   "source": [
    "last_two = finishers[-2:]\n",
    "print(last_two)"
   ]
  },
  {
   "cell_type": "markdown",
   "metadata": {},
   "source": [
    "## index() function\n",
    "index function returns the first occurence in the list"
   ]
  },
  {
   "cell_type": "code",
   "execution_count": null,
   "metadata": {},
   "outputs": [],
   "source": [
    "# want a table with the position next to the element\n",
    "finishers = ['Sue','Elliot', 'Kumiko','Damien','Elliot'] \n",
    "print('Index | Finisher')\n",
    "for f in finishers:\n",
    "    print(finishers.index(f), ' | ',f)\n",
    "# index function returns the first occurence in the list"
   ]
  },
  {
   "cell_type": "code",
   "execution_count": null,
   "metadata": {},
   "outputs": [],
   "source": [
    "finishers = ['Sue','Elliot', 'Kumiko','Damien','Elliot'] \n",
    "l =len(finishers)\n",
    "print('Index | Finisher')\n",
    "for number in range(0,l):\n",
    "    print(number  , finishers[number])\n",
    "    "
   ]
  },
  {
   "cell_type": "markdown",
   "metadata": {},
   "source": [
    "Copying a list"
   ]
  },
  {
   "cell_type": "code",
   "execution_count": null,
   "metadata": {},
   "outputs": [],
   "source": [
    "copy_of_bicycles = bicycles[:] \n",
    "print(copy_of_bicycles)"
   ]
  },
  {
   "cell_type": "markdown",
   "metadata": {},
   "source": [
    "### Tuples\n",
    "\n",
    "Tuples are similar to lists, but the items in a tuple can't be modified. "
   ]
  },
  {
   "cell_type": "markdown",
   "metadata": {},
   "source": [
    "Making a tuple "
   ]
  },
  {
   "cell_type": "code",
   "execution_count": null,
   "metadata": {},
   "outputs": [],
   "source": [
    "# tuple of numbers\n",
    "dimensions = (1920, 1080)\n",
    "\n",
    "# tuples of tuples\n",
    "pushbikes= ('mountain', 'road', 'race', 'penny-farthing')\n",
    "\n",
    "#tuple of different types of variables\n",
    "hold_all = (35, 'Data Science', [1,2,3,4,5], (1,7))\n",
    "\n",
    "print(hold_all)\n",
    "\n",
    "# lists can be modified \n",
    "bicycles[0]='raleigh'\n",
    "print(bicycles)"
   ]
  },
  {
   "cell_type": "code",
   "execution_count": null,
   "metadata": {},
   "outputs": [],
   "source": [
    "#hold_all[0]= 34\n",
    "\n",
    "print(hold_all[0])"
   ]
  },
  {
   "cell_type": "markdown",
   "metadata": {},
   "source": [
    "### If statements are used to test for particular conditions and respond appropriately.\n",
    "\n",
    "# if (condition) : action"
   ]
  },
  {
   "cell_type": "code",
   "execution_count": null,
   "metadata": {},
   "outputs": [],
   "source": [
    "# If statement\n",
    "age = 25\n",
    "commonwealth = True\n",
    "if age >= 18: \n",
    "    print(\"You may be able to vote\")\n",
    "\n",
    "if (age >= 18 and commonwealth == True):\n",
    "    print(\"You can vote!\") \n",
    "    \n",
    "#If-elif-else statements \n",
    "if age < 4: \n",
    "    price = 0 \n",
    "elif age < 18:\n",
    "    price = 10 \n",
    "else: price = 15\n",
    "\n",
    "print(price)"
   ]
  },
  {
   "cell_type": "markdown",
   "metadata": {},
   "source": [
    "Conditions\n",
    "\n",
    "tests equals\n",
    "x == 42 \n",
    "\n",
    "not equal \n",
    "x != 42  \n",
    "\n",
    "greater than \n",
    "x > 42 \n",
    "\n",
    "greater than or equal to\n",
    "x >= 42 \n",
    "\n",
    "less than\n",
    "x < 42 \n",
    "\n",
    "less than or equal to\n",
    "x <= 42"
   ]
  },
  {
   "cell_type": "code",
   "execution_count": null,
   "metadata": {},
   "outputs": [],
   "source": [
    "x = 57 # i assign 57 to x\n",
    "# (x<42) is  a test with a value of True of False\n",
    "print('is x smaller than 42?', x < 42)\n",
    "\n",
    "X =(x > 42 )\n",
    "print('is x bigger than 42?', X)\n",
    "\n",
    "if X : \n",
    "    print(X)"
   ]
  },
  {
   "cell_type": "code",
   "execution_count": null,
   "metadata": {},
   "outputs": [],
   "source": [
    "test = 50\n",
    "x = (test!= 55)\n",
    "\n",
    "if x :\n",
    "    print(x)"
   ]
  },
  {
   "cell_type": "markdown",
   "metadata": {},
   "source": [
    "## Conditional test with lists \n",
    "## IN\n",
    "## NOT IN"
   ]
  },
  {
   "cell_type": "code",
   "execution_count": null,
   "metadata": {},
   "outputs": [],
   "source": [
    "print('downhill' in bicycles)"
   ]
  },
  {
   "cell_type": "code",
   "execution_count": null,
   "metadata": {},
   "outputs": [],
   "source": [
    "print('downhill' not in bicycles)"
   ]
  },
  {
   "cell_type": "markdown",
   "metadata": {},
   "source": [
    "Assigning boolean values"
   ]
  },
  {
   "cell_type": "code",
   "execution_count": null,
   "metadata": {},
   "outputs": [],
   "source": [
    "game_active = True \n",
    "can_edit = False"
   ]
  },
  {
   "cell_type": "markdown",
   "metadata": {},
   "source": [
    "# Exercise\n",
    "\n",
    "Take a list of numbers\n",
    "and write a program that prints out all the elements of the list that are less than 5."
   ]
  },
  {
   "cell_type": "code",
   "execution_count": null,
   "metadata": {},
   "outputs": [],
   "source": [
    "# set list\n",
    "\n",
    "list = [1, 1, 2, 3, 5, 8, 13, 21, 34, 55, 89]\n",
    "\n",
    "# your code below\n",
    "\n",
    "\n",
    "\n",
    "\n",
    "\n",
    "\n",
    "\n",
    "\n",
    "\n",
    "# extra: create a list of random number using the\n",
    "# random generator below\n",
    "\n",
    "import random\n",
    "for x in range(10):\n",
    "  print(random.randint(1,101))"
   ]
  },
  {
   "cell_type": "markdown",
   "metadata": {},
   "source": [
    "# Dictionaries \n",
    "they store connections between pieces of information\n",
    "\n",
    "Each item in a dictionary is a key-value pair"
   ]
  },
  {
   "cell_type": "markdown",
   "metadata": {},
   "source": [
    "Simple dictionaries {}"
   ]
  },
  {
   "cell_type": "code",
   "execution_count": null,
   "metadata": {},
   "outputs": [],
   "source": [
    "word_frequency = {'Data' : 14, 'Science': 10, 'Machine': 5, 'Learning' : 8}\n",
    "\n",
    "real_dictionary = {'a': 'string that defines a', 'abc': 'definition of abc'}\n",
    "\n",
    "\n",
    "# with different value types\n",
    "car = {'make' : 'Mazda', 'model' : '3 sport', 'engine_size_cc': 2259,\n",
    "       'colour': 'laser blue', 'dimensions_mm' : {'w':1795 , 'l':4465 , 'h':1465}}\n"
   ]
  },
  {
   "cell_type": "markdown",
   "metadata": {},
   "source": [
    "Accessing a value"
   ]
  },
  {
   "cell_type": "code",
   "execution_count": null,
   "metadata": {},
   "outputs": [],
   "source": [
    "print(\"The car colour is \" + car['colour'])"
   ]
  },
  {
   "cell_type": "code",
   "execution_count": null,
   "metadata": {},
   "outputs": [],
   "source": [
    "#write code to retrieve the dictionary inside the dictionary\n",
    "\n",
    "dictionary = car['dimensions_mm']\n",
    "print(dictionary)\n"
   ]
  },
  {
   "cell_type": "code",
   "execution_count": null,
   "metadata": {},
   "outputs": [],
   "source": [
    "# retrieve the value in thedictionary inside the dictionary\n",
    "\n",
    "print('car length is', car['dimensions_mm']['l'], 'cm')"
   ]
  },
  {
   "cell_type": "code",
   "execution_count": null,
   "metadata": {},
   "outputs": [],
   "source": [
    "Adding a new key-value pair\n",
    "car = {'make' : 'Mazda', 'model' : '3 sport', 'engine_size_cc': 2259,\n",
    "       'colour': 'laser blue', 'dimensions_mm' : {'w':1795 , 'l':4465 , 'h':1465}}\n"
   ]
  },
  {
   "cell_type": "code",
   "execution_count": null,
   "metadata": {},
   "outputs": [],
   "source": [
    "car['transmission_type'] = 'automatic'\n",
    "print(car)"
   ]
  },
  {
   "cell_type": "markdown",
   "metadata": {},
   "source": [
    "Values, Keys and Items"
   ]
  },
  {
   "cell_type": "code",
   "execution_count": null,
   "metadata": {},
   "outputs": [],
   "source": [
    "print('list of tuples in the dictionary','\\n',car.items(),'\\n')\n",
    "\n",
    "print('list of keys','\\n',car.keys(),'\\n')\n",
    "\n",
    "print('list of values','\\n',car.values(),'\\n')"
   ]
  },
  {
   "cell_type": "markdown",
   "metadata": {},
   "source": [
    "Looping through all keys"
   ]
  },
  {
   "cell_type": "code",
   "execution_count": null,
   "metadata": {},
   "outputs": [],
   "source": [
    "# for keys in dictionary:\n",
    "\n",
    "for k in car.keys(): \n",
    "    print(k + ' is a car characteristic') "
   ]
  },
  {
   "cell_type": "markdown",
   "metadata": {},
   "source": [
    "Looping through all the values"
   ]
  },
  {
   "cell_type": "code",
   "execution_count": null,
   "metadata": {},
   "outputs": [],
   "source": [
    "#write code to loop through all the values\n",
    "\n",
    "for v in car.values(): \n",
    "    print(v , ' is a car characteristic')\n"
   ]
  },
  {
   "cell_type": "markdown",
   "metadata": {},
   "source": [
    "Looping through all key-value pairs"
   ]
  },
  {
   "cell_type": "code",
   "execution_count": null,
   "metadata": {},
   "outputs": [],
   "source": [
    "# python difference or characteristic\n",
    "print(str(car['dimensions_mm']['l']))\n",
    "\n",
    "for k,v in car.items():\n",
    "    print(k ,' is ' , v)\n",
    "    print(k + ' is '+ str(v))"
   ]
  },
  {
   "cell_type": "code",
   "execution_count": null,
   "metadata": {},
   "outputs": [],
   "source": [
    "#Write a Python script to concatenate following dictionaries to create a new one. Go to the editor\n",
    "\n",
    "#Sample Dictionary : \n",
    "dic1={1:'Royal Dutch Shell', 2:'BP'} \n",
    "dic2={3:'Total', 4:'Volkswagen'} \n",
    "dic3={5:'Glencore Xstrata',6:'Gazprom'}\n",
    "\n"
   ]
  },
  {
   "cell_type": "code",
   "execution_count": null,
   "metadata": {},
   "outputs": [],
   "source": [
    "# Write a Python script to check if a given key already exists in a dictionary.\n",
    "\n",
    "### your code ####"
   ]
  },
  {
   "cell_type": "markdown",
   "metadata": {},
   "source": [
    "### Programs can prompt the user for input. \n",
    "All input is stored as a string. \n",
    "\n",
    "Prompting for a value"
   ]
  },
  {
   "cell_type": "code",
   "execution_count": null,
   "metadata": {},
   "outputs": [],
   "source": [
    "# prompting for a value\n",
    "name = input(\"What's your name? \") \n",
    "print(\"Hello, \" + name + \"!\") "
   ]
  },
  {
   "cell_type": "code",
   "execution_count": null,
   "metadata": {},
   "outputs": [],
   "source": [
    "# prompting for a number\n",
    "\n",
    "age = input(\"How old are you? \") #return a string\n",
    "age = int(age) #convert\n",
    "print(age)\n",
    "\n",
    "\n",
    "pi = input(\"What's the value of pi? \") \n",
    "print(pi)\n",
    "pi = float(pi)\n"
   ]
  },
  {
   "cell_type": "markdown",
   "metadata": {},
   "source": [
    "# Exercise\n",
    "Create a program that asks the user to enter their name and their age. Print out a message addressed to them that tells them the year that they will turn 100 years old."
   ]
  },
  {
   "cell_type": "code",
   "execution_count": null,
   "metadata": {},
   "outputs": [],
   "source": [
    "current_year = 2018\n",
    "\n"
   ]
  },
  {
   "cell_type": "code",
   "execution_count": null,
   "metadata": {},
   "outputs": [],
   "source": [
    "import random\n",
    "\n",
    "for x in range(10):\n",
    "  print(random.randint(1,101))"
   ]
  }
 ],
 "metadata": {
  "kernelspec": {
   "display_name": "Python 3",
   "language": "python",
   "name": "python3"
  },
  "language_info": {
   "codemirror_mode": {
    "name": "ipython",
    "version": 3
   },
   "file_extension": ".py",
   "mimetype": "text/x-python",
   "name": "python",
   "nbconvert_exporter": "python",
   "pygments_lexer": "ipython3",
   "version": "3.6.5"
  }
 },
 "nbformat": 4,
 "nbformat_minor": 2
}
